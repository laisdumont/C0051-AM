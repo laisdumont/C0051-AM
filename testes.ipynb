{
 "cells": [
  {
   "cell_type": "markdown",
   "source": [
    "- Quebra de recursos:\n",
    "```for i in df.index:\n",
    "    df[\"recurso\"][i] = df[\"recurso\"][i].split(\"/\")\n",
    "    if len(df[\"recurso\"][i]) > 2:\n",
    "        df[\"recurso\"][i] = df[\"recurso\"][i][1]\n",
    "    else:\n",
    "        df[\"recurso\"][i] = df[\"recurso\"][i][0]"
   ],
   "metadata": {
    "collapsed": false,
    "pycharm": {
     "name": "#%% md\n"
    }
   }
  }
 ],
 "metadata": {
  "kernelspec": {
   "display_name": "Python 3",
   "language": "python",
   "name": "python3"
  },
  "language_info": {
   "codemirror_mode": {
    "name": "ipython",
    "version": 2
   },
   "file_extension": ".py",
   "mimetype": "text/x-python",
   "name": "python",
   "nbconvert_exporter": "python",
   "pygments_lexer": "ipython2",
   "version": "2.7.6"
  }
 },
 "nbformat": 4,
 "nbformat_minor": 0
}