{
 "cells": [
  {
   "cell_type": "code",
   "execution_count": 24,
   "metadata": {
    "collapsed": true
   },
   "outputs": [],
   "source": [
    "import pandas as pd\n",
    "\n",
    "df = pd.read_csv('recurso.csv', sep=',')"
   ]
  },
  {
   "cell_type": "code",
   "execution_count": 26,
   "outputs": [],
   "source": [
    "def retirar_ponto(ip):\n",
    "    ip = ip.replace('.', '')\n",
    "    return ip\n",
    "\n",
    "df.ip = df.ip.apply(retirar_ponto)"
   ],
   "metadata": {
    "collapsed": false
   }
  },
  {
   "cell_type": "code",
   "execution_count": 27,
   "outputs": [],
   "source": [
    "df = df.drop(columns=['data1'])\n",
    "df = df.drop(columns=['data2'])\n",
    "df = df.fillna('null')\n",
    "df = df[df.status != '-']"
   ],
   "metadata": {
    "collapsed": false
   }
  },
  {
   "cell_type": "code",
   "execution_count": 28,
   "outputs": [],
   "source": [
    "from sklearn import preprocessing\n",
    "import numpy as np"
   ],
   "metadata": {
    "collapsed": false
   }
  },
  {
   "cell_type": "code",
   "execution_count": 29,
   "outputs": [],
   "source": [
    "enc = preprocessing.OrdinalEncoder()\n",
    "metodo = np.expand_dims(df.metodo, axis=1)\n",
    "metodo = enc.fit_transform(metodo)\n",
    "df.metodo = metodo"
   ],
   "metadata": {
    "collapsed": false
   }
  },
  {
   "cell_type": "code",
   "execution_count": 30,
   "outputs": [],
   "source": [
    "enc = preprocessing.OrdinalEncoder()\n",
    "recurso = np.expand_dims(df.recurso, axis=1)\n",
    "recurso = enc.fit_transform(recurso)\n",
    "df.recurso = recurso"
   ],
   "metadata": {
    "collapsed": false
   }
  },
  {
   "cell_type": "code",
   "execution_count": 31,
   "outputs": [],
   "source": [
    "x = np.array([df.status, df.metodo, df.recurso])\n",
    "X = np.expand_dims(x, axis=0)\n",
    "X = np.reshape(X, (3, 471188))\n",
    "X_normalized = preprocessing.normalize(X, norm='max')"
   ],
   "metadata": {
    "collapsed": false
   }
  },
  {
   "cell_type": "code",
   "execution_count": 35,
   "outputs": [],
   "source": [
    "df1 = X_normalized.transpose()\n",
    "df1 = pd.DataFrame(df1)\n",
    "df1.insert(0, 'ip', df.ip)\n",
    "df1= df1.rename(columns={0: 'status', 1:'metodo', 2:'recurso'})\n",
    "df1 = df1.dropna()"
   ],
   "metadata": {
    "collapsed": false
   }
  },
  {
   "cell_type": "code",
   "execution_count": 222,
   "outputs": [],
   "source": [
    "df1.to_csv('dadostratados.csv', index=False)"
   ],
   "metadata": {
    "collapsed": false
   }
  }
 ],
 "metadata": {
  "kernelspec": {
   "display_name": "Python 3",
   "language": "python",
   "name": "python3"
  },
  "language_info": {
   "codemirror_mode": {
    "name": "ipython",
    "version": 2
   },
   "file_extension": ".py",
   "mimetype": "text/x-python",
   "name": "python",
   "nbconvert_exporter": "python",
   "pygments_lexer": "ipython2",
   "version": "2.7.6"
  }
 },
 "nbformat": 4,
 "nbformat_minor": 0
}
