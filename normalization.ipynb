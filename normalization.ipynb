{
 "cells": [
  {
   "cell_type": "code",
   "execution_count": 196,
   "metadata": {
    "collapsed": true
   },
   "outputs": [],
   "source": [
    "import pandas as pd\n",
    "\n",
    "df = pd.read_csv('recurso.csv', sep=',')"
   ]
  },
  {
   "cell_type": "code",
   "execution_count": 142,
   "outputs": [],
   "source": [
    "df2 = pd.read_csv('recurso.csv', sep=',')"
   ],
   "metadata": {
    "collapsed": false
   }
  },
  {
   "cell_type": "code",
   "execution_count": 197,
   "outputs": [
    {
     "data": {
      "text/plain": "                      data1       data2              ip status metodo  \\\n0       2022-01-06 06:01:46  2022-01-06  216.245.221.89    200   HEAD   \n1       2022-01-06 06:01:46  2022-01-06  216.245.221.89    200   HEAD   \n2       2022-01-06 06:01:46  2022-01-06  216.245.221.89    200   HEAD   \n3       2022-01-06 06:01:47  2022-01-06  216.245.221.89    200   HEAD   \n4       2022-01-06 06:01:46  2022-01-06  216.245.221.89    200   HEAD   \n...                     ...         ...             ...    ...    ...   \n472456  2021-09-27 08:09:38  2021-09-27   54.94.159.140      -    GET   \n472457  2021-09-27 08:09:53  2021-09-27   54.94.159.140      -    GET   \n472458  2021-09-27 08:09:12  2021-09-27   54.94.159.140      -    GET   \n472459  2021-09-27 08:09:14  2021-09-27   54.94.159.140      -    GET   \n472460  2021-09-27 08:09:53  2021-09-27  216.245.221.89    200   HEAD   \n\n            recurso  \n0              main  \n1              main  \n2              main  \n3              main  \n4              main  \n...             ...  \n472456       remote  \n472457          NaN  \n472458          %2f  \n472459  sample-apps  \n472460         main  \n\n[472461 rows x 6 columns]",
      "text/html": "<div>\n<style scoped>\n    .dataframe tbody tr th:only-of-type {\n        vertical-align: middle;\n    }\n\n    .dataframe tbody tr th {\n        vertical-align: top;\n    }\n\n    .dataframe thead th {\n        text-align: right;\n    }\n</style>\n<table border=\"1\" class=\"dataframe\">\n  <thead>\n    <tr style=\"text-align: right;\">\n      <th></th>\n      <th>data1</th>\n      <th>data2</th>\n      <th>ip</th>\n      <th>status</th>\n      <th>metodo</th>\n      <th>recurso</th>\n    </tr>\n  </thead>\n  <tbody>\n    <tr>\n      <th>0</th>\n      <td>2022-01-06 06:01:46</td>\n      <td>2022-01-06</td>\n      <td>216.245.221.89</td>\n      <td>200</td>\n      <td>HEAD</td>\n      <td>main</td>\n    </tr>\n    <tr>\n      <th>1</th>\n      <td>2022-01-06 06:01:46</td>\n      <td>2022-01-06</td>\n      <td>216.245.221.89</td>\n      <td>200</td>\n      <td>HEAD</td>\n      <td>main</td>\n    </tr>\n    <tr>\n      <th>2</th>\n      <td>2022-01-06 06:01:46</td>\n      <td>2022-01-06</td>\n      <td>216.245.221.89</td>\n      <td>200</td>\n      <td>HEAD</td>\n      <td>main</td>\n    </tr>\n    <tr>\n      <th>3</th>\n      <td>2022-01-06 06:01:47</td>\n      <td>2022-01-06</td>\n      <td>216.245.221.89</td>\n      <td>200</td>\n      <td>HEAD</td>\n      <td>main</td>\n    </tr>\n    <tr>\n      <th>4</th>\n      <td>2022-01-06 06:01:46</td>\n      <td>2022-01-06</td>\n      <td>216.245.221.89</td>\n      <td>200</td>\n      <td>HEAD</td>\n      <td>main</td>\n    </tr>\n    <tr>\n      <th>...</th>\n      <td>...</td>\n      <td>...</td>\n      <td>...</td>\n      <td>...</td>\n      <td>...</td>\n      <td>...</td>\n    </tr>\n    <tr>\n      <th>472456</th>\n      <td>2021-09-27 08:09:38</td>\n      <td>2021-09-27</td>\n      <td>54.94.159.140</td>\n      <td>-</td>\n      <td>GET</td>\n      <td>remote</td>\n    </tr>\n    <tr>\n      <th>472457</th>\n      <td>2021-09-27 08:09:53</td>\n      <td>2021-09-27</td>\n      <td>54.94.159.140</td>\n      <td>-</td>\n      <td>GET</td>\n      <td>NaN</td>\n    </tr>\n    <tr>\n      <th>472458</th>\n      <td>2021-09-27 08:09:12</td>\n      <td>2021-09-27</td>\n      <td>54.94.159.140</td>\n      <td>-</td>\n      <td>GET</td>\n      <td>%2f</td>\n    </tr>\n    <tr>\n      <th>472459</th>\n      <td>2021-09-27 08:09:14</td>\n      <td>2021-09-27</td>\n      <td>54.94.159.140</td>\n      <td>-</td>\n      <td>GET</td>\n      <td>sample-apps</td>\n    </tr>\n    <tr>\n      <th>472460</th>\n      <td>2021-09-27 08:09:53</td>\n      <td>2021-09-27</td>\n      <td>216.245.221.89</td>\n      <td>200</td>\n      <td>HEAD</td>\n      <td>main</td>\n    </tr>\n  </tbody>\n</table>\n<p>472461 rows × 6 columns</p>\n</div>"
     },
     "execution_count": 197,
     "metadata": {},
     "output_type": "execute_result"
    }
   ],
   "source": [
    "df"
   ],
   "metadata": {
    "collapsed": false
   }
  },
  {
   "cell_type": "code",
   "execution_count": 198,
   "outputs": [],
   "source": [
    "def retirar_ponto(ip):\n",
    "    ip = ip.replace('.', '')\n",
    "    return ip\n",
    "\n",
    "df.ip = df.ip.apply(retirar_ponto)"
   ],
   "metadata": {
    "collapsed": false
   }
  },
  {
   "cell_type": "code",
   "execution_count": 199,
   "outputs": [],
   "source": [
    "df = df.drop(columns=['data1'])\n",
    "df = df.drop(columns=['data2'])\n",
    "df = df.fillna('null')\n",
    "df = df[df.status != '-']"
   ],
   "metadata": {
    "collapsed": false
   }
  },
  {
   "cell_type": "code",
   "execution_count": 200,
   "outputs": [],
   "source": [
    "from sklearn import preprocessing\n",
    "import numpy as np"
   ],
   "metadata": {
    "collapsed": false
   }
  },
  {
   "cell_type": "code",
   "execution_count": 201,
   "outputs": [],
   "source": [
    "enc = preprocessing.OrdinalEncoder()\n",
    "metodo = np.expand_dims(df.metodo, axis=1)\n",
    "metodo = enc.fit_transform(metodo)\n",
    "df.metodo = metodo"
   ],
   "metadata": {
    "collapsed": false
   }
  },
  {
   "cell_type": "code",
   "execution_count": 202,
   "outputs": [],
   "source": [
    "enc = preprocessing.OrdinalEncoder()\n",
    "recurso = np.expand_dims(df.recurso, axis=1)\n",
    "recurso = enc.fit_transform(recurso)\n",
    "df.recurso = recurso"
   ],
   "metadata": {
    "collapsed": false
   }
  },
  {
   "cell_type": "code",
   "execution_count": 203,
   "outputs": [
    {
     "data": {
      "text/plain": "array([['200', '200', '200', ..., '200', '200', '200'],\n       [2.0, 2.0, 2.0, ..., 2.0, 2.0, 2.0],\n       [897.0, 897.0, 897.0, ..., 897.0, 897.0, 897.0]], dtype=object)"
     },
     "execution_count": 203,
     "metadata": {},
     "output_type": "execute_result"
    }
   ],
   "source": [
    "x = np.array([df.status, df.metodo, df.recurso])\n",
    "x"
   ],
   "metadata": {
    "collapsed": false
   }
  },
  {
   "cell_type": "code",
   "execution_count": 204,
   "outputs": [
    {
     "data": {
      "text/plain": "array([[['200', '200', '200', ..., '200', '200', '200'],\n        [2.0, 2.0, 2.0, ..., 2.0, 2.0, 2.0],\n        [897.0, 897.0, 897.0, ..., 897.0, 897.0, 897.0]]], dtype=object)"
     },
     "execution_count": 204,
     "metadata": {},
     "output_type": "execute_result"
    }
   ],
   "source": [
    "X = np.expand_dims(x, axis=0)\n",
    "X"
   ],
   "metadata": {
    "collapsed": false
   }
  },
  {
   "cell_type": "code",
   "execution_count": 205,
   "outputs": [
    {
     "data": {
      "text/plain": "array([['200', '200', '200', ..., '200', '200', '200'],\n       [2.0, 2.0, 2.0, ..., 2.0, 2.0, 2.0],\n       [897.0, 897.0, 897.0, ..., 897.0, 897.0, 897.0]], dtype=object)"
     },
     "execution_count": 205,
     "metadata": {},
     "output_type": "execute_result"
    }
   ],
   "source": [
    "X = np.reshape(X, (3, 471188))\n",
    "X"
   ],
   "metadata": {
    "collapsed": false
   }
  },
  {
   "cell_type": "code",
   "execution_count": 206,
   "outputs": [
    {
     "data": {
      "text/plain": "array([[0.46620047, 0.46620047, 0.46620047, ..., 0.46620047, 0.46620047,\n        0.46620047],\n       [0.33333333, 0.33333333, 0.33333333, ..., 0.33333333, 0.33333333,\n        0.33333333],\n       [0.56952381, 0.56952381, 0.56952381, ..., 0.56952381, 0.56952381,\n        0.56952381]])"
     },
     "execution_count": 206,
     "metadata": {},
     "output_type": "execute_result"
    }
   ],
   "source": [
    "X_normalized = preprocessing.normalize(X, norm='max')\n",
    "\n",
    "X_normalized"
   ],
   "metadata": {
    "collapsed": false
   }
  },
  {
   "cell_type": "code",
   "execution_count": 207,
   "outputs": [],
   "source": [
    "df1 = X_normalized.transpose()"
   ],
   "metadata": {
    "collapsed": false
   }
  },
  {
   "cell_type": "code",
   "execution_count": 208,
   "outputs": [],
   "source": [
    "df1 = pd.DataFrame(df1)"
   ],
   "metadata": {
    "collapsed": false
   }
  },
  {
   "cell_type": "code",
   "execution_count": 211,
   "outputs": [],
   "source": [
    "df1.insert(0, 'ip', df.ip)"
   ],
   "metadata": {
    "collapsed": false
   }
  },
  {
   "cell_type": "code",
   "execution_count": 214,
   "outputs": [
    {
     "data": {
      "text/plain": "                 ip  status    metodo   recurso\n0       21624522189  0.4662  0.333333  0.569524\n1       21624522189  0.4662  0.333333  0.569524\n2       21624522189  0.4662  0.333333  0.569524\n3       21624522189  0.4662  0.333333  0.569524\n4       21624522189  0.4662  0.333333  0.569524\n...             ...     ...       ...       ...\n471183  21624522189  0.4662  0.333333  0.569524\n471184  21624522189  0.4662  0.333333  0.569524\n471185  21624522189  0.4662  0.333333  0.569524\n471186          NaN  0.4662  0.333333  0.569524\n471187  21624522189  0.4662  0.333333  0.569524\n\n[471188 rows x 4 columns]",
      "text/html": "<div>\n<style scoped>\n    .dataframe tbody tr th:only-of-type {\n        vertical-align: middle;\n    }\n\n    .dataframe tbody tr th {\n        vertical-align: top;\n    }\n\n    .dataframe thead th {\n        text-align: right;\n    }\n</style>\n<table border=\"1\" class=\"dataframe\">\n  <thead>\n    <tr style=\"text-align: right;\">\n      <th></th>\n      <th>ip</th>\n      <th>status</th>\n      <th>metodo</th>\n      <th>recurso</th>\n    </tr>\n  </thead>\n  <tbody>\n    <tr>\n      <th>0</th>\n      <td>21624522189</td>\n      <td>0.4662</td>\n      <td>0.333333</td>\n      <td>0.569524</td>\n    </tr>\n    <tr>\n      <th>1</th>\n      <td>21624522189</td>\n      <td>0.4662</td>\n      <td>0.333333</td>\n      <td>0.569524</td>\n    </tr>\n    <tr>\n      <th>2</th>\n      <td>21624522189</td>\n      <td>0.4662</td>\n      <td>0.333333</td>\n      <td>0.569524</td>\n    </tr>\n    <tr>\n      <th>3</th>\n      <td>21624522189</td>\n      <td>0.4662</td>\n      <td>0.333333</td>\n      <td>0.569524</td>\n    </tr>\n    <tr>\n      <th>4</th>\n      <td>21624522189</td>\n      <td>0.4662</td>\n      <td>0.333333</td>\n      <td>0.569524</td>\n    </tr>\n    <tr>\n      <th>...</th>\n      <td>...</td>\n      <td>...</td>\n      <td>...</td>\n      <td>...</td>\n    </tr>\n    <tr>\n      <th>471183</th>\n      <td>21624522189</td>\n      <td>0.4662</td>\n      <td>0.333333</td>\n      <td>0.569524</td>\n    </tr>\n    <tr>\n      <th>471184</th>\n      <td>21624522189</td>\n      <td>0.4662</td>\n      <td>0.333333</td>\n      <td>0.569524</td>\n    </tr>\n    <tr>\n      <th>471185</th>\n      <td>21624522189</td>\n      <td>0.4662</td>\n      <td>0.333333</td>\n      <td>0.569524</td>\n    </tr>\n    <tr>\n      <th>471186</th>\n      <td>NaN</td>\n      <td>0.4662</td>\n      <td>0.333333</td>\n      <td>0.569524</td>\n    </tr>\n    <tr>\n      <th>471187</th>\n      <td>21624522189</td>\n      <td>0.4662</td>\n      <td>0.333333</td>\n      <td>0.569524</td>\n    </tr>\n  </tbody>\n</table>\n<p>471188 rows × 4 columns</p>\n</div>"
     },
     "execution_count": 214,
     "metadata": {},
     "output_type": "execute_result"
    }
   ],
   "source": [
    "df1"
   ],
   "metadata": {
    "collapsed": false
   }
  },
  {
   "cell_type": "code",
   "execution_count": 213,
   "outputs": [],
   "source": [
    "df1= df1.rename(columns={0: 'status', 1:'metodo', 2:'recurso'})"
   ],
   "metadata": {
    "collapsed": false
   }
  },
  {
   "cell_type": "code",
   "execution_count": 215,
   "outputs": [],
   "source": [
    "df1.to_csv('dadostratados.csv')"
   ],
   "metadata": {
    "collapsed": false
   }
  }
 ],
 "metadata": {
  "kernelspec": {
   "display_name": "Python 3",
   "language": "python",
   "name": "python3"
  },
  "language_info": {
   "codemirror_mode": {
    "name": "ipython",
    "version": 2
   },
   "file_extension": ".py",
   "mimetype": "text/x-python",
   "name": "python",
   "nbconvert_exporter": "python",
   "pygments_lexer": "ipython2",
   "version": "2.7.6"
  }
 },
 "nbformat": 4,
 "nbformat_minor": 0
}
